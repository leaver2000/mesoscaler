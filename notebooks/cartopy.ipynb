{
 "cells": [
  {
   "cell_type": "code",
   "execution_count": 1,
   "metadata": {},
   "outputs": [
    {
     "data": {
      "text/html": [
       "\n",
       "                <script type=\"application/javascript\" id=\"jupyter_black\">\n",
       "                (function() {\n",
       "                    if (window.IPython === undefined) {\n",
       "                        return\n",
       "                    }\n",
       "                    var msg = \"WARNING: it looks like you might have loaded \" +\n",
       "                        \"jupyter_black in a non-lab notebook with \" +\n",
       "                        \"`is_lab=True`. Please double check, and if \" +\n",
       "                        \"loading with `%load_ext` please review the README!\"\n",
       "                    console.log(msg)\n",
       "                    alert(msg)\n",
       "                })()\n",
       "                </script>\n",
       "                "
      ],
      "text/plain": [
       "<IPython.core.display.HTML object>"
      ]
     },
     "metadata": {},
     "output_type": "display_data"
    }
   ],
   "source": [
    "from __future__ import annotations\n",
    "\n",
    "%load_ext jupyter_black"
   ]
  },
  {
   "cell_type": "code",
   "execution_count": null,
   "metadata": {},
   "outputs": [],
   "source": [
    "import random\n",
    "\n",
    "import numpy as np\n",
    "import matplotlib.pyplot as plt\n",
    "import cartopy.crs as ccrs\n",
    "from cartopy.mpl.geoaxes import GeoAxes\n",
    "from cartopy.feature import STATES\n",
    "import pyresample.geometry\n",
    "\n",
    "import mesoscaler as ms"
   ]
  },
  {
   "cell_type": "code",
   "execution_count": 2,
   "metadata": {},
   "outputs": [],
   "source": [
    "from mesoscaler.sampling.domain import AbstractDomain\n",
    "\n",
    "\n",
    "class Plotter:\n",
    "    def __init__(self, resampler: ms.ReSampler, longitude, latitude, time):\n",
    "        self.resampler = resampler\n",
    "\n",
    "    def plot(self, longitude, latitude, time):\n",
    "        data = self.resampler(longitude, latitude, time)\n",
    "        p_def = self.resampler._partial_area_definition(longitude, latitude)\n",
    "        a_defs = map(p_def, self.resampler.area_extents)\n",
    "\n",
    "    #     self.arr = x\n",
    "    #     self.times = list(times)\n",
    "    #     self.levels = list(levels)\n",
    "    # def plot_level(self, time: np.datetime64, level: float):\n",
    "    #     tidx = self.times.index(time)\n",
    "    #     lvl = self.levels.index(level)\n",
    "    #     area_extent = domain.scale.area_extent[lvl] * 1000\n",
    "    #     area_def = pyresample.geometry.AreaDefinition(\n",
    "    #         \"\",\n",
    "    #         \"\",\n",
    "    #         \"\",\n",
    "    #         {\"proj\": \"laea\", \"lon_0\": lon, \"lat_0\": lat},\n",
    "    #         width=width,\n",
    "    #         height=height,\n",
    "    #         area_extent=area_extent,\n",
    "    #     )\n",
    "    #     z, t, q, u, v = array[:, tidx, lvl]  # 300 hPa\n",
    "    #     x, y = area_def.get_lonlats()\n",
    "\n",
    "    #     fig = plt.figure(figsize=(10, 10))\n",
    "\n",
    "    #     ax = fig.add_subplot(1, 1, 1, projection=area_def.to_cartopy_crs())\n",
    "    #     assert isinstance(ax, GeoAxes)\n",
    "\n",
    "    #     ax.coastlines()\n",
    "    #     transform = ccrs.PlateCarree()\n",
    "    #     ax.add_feature(STATES)\n",
    "    #     ax.gridlines()\n",
    "\n",
    "    #     ax.contour(\n",
    "    #         x,\n",
    "    #         y,\n",
    "    #         z,\n",
    "    #         colors=\"k\",\n",
    "    #         linewidths=1,\n",
    "    #         transform=transform,\n",
    "    #     )\n",
    "\n",
    "    #     ax.contour(\n",
    "    #         x,\n",
    "    #         y,\n",
    "    #         t,\n",
    "    #         colors=\"r\",\n",
    "    #         linewidths=1,\n",
    "    #         linestyles=\"--\",\n",
    "    #         transform=transform,\n",
    "    #     )\n",
    "    #     ax.contourf(\n",
    "    #         x,\n",
    "    #         y,\n",
    "    #         q,\n",
    "    #         cmap=\"Greens\",\n",
    "    #         transform=transform,\n",
    "    #     )\n",
    "\n",
    "    #     ax.barbs(\n",
    "    #         x,\n",
    "    #         y,\n",
    "    #         u,\n",
    "    #         v,\n",
    "    #         length=2,\n",
    "    #         pivot=\"middle\",\n",
    "    #         transform=transform,\n",
    "    #     )"
   ]
  }
 ],
 "metadata": {
  "kernelspec": {
   "display_name": ".venv",
   "language": "python",
   "name": "python3"
  },
  "language_info": {
   "codemirror_mode": {
    "name": "ipython",
    "version": 3
   },
   "file_extension": ".py",
   "mimetype": "text/x-python",
   "name": "python",
   "nbconvert_exporter": "python",
   "pygments_lexer": "ipython3",
   "version": "3.10.12"
  }
 },
 "nbformat": 4,
 "nbformat_minor": 2
}
