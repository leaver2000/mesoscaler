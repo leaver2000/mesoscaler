{
 "cells": [
  {
   "cell_type": "code",
   "execution_count": 1,
   "metadata": {},
   "outputs": [
    {
     "data": {
      "text/html": [
       "\n",
       "                <script type=\"application/javascript\" id=\"jupyter_black\">\n",
       "                (function() {\n",
       "                    if (window.IPython === undefined) {\n",
       "                        return\n",
       "                    }\n",
       "                    var msg = \"WARNING: it looks like you might have loaded \" +\n",
       "                        \"jupyter_black in a non-lab notebook with \" +\n",
       "                        \"`is_lab=True`. Please double check, and if \" +\n",
       "                        \"loading with `%load_ext` please review the README!\"\n",
       "                    console.log(msg)\n",
       "                    alert(msg)\n",
       "                })()\n",
       "                </script>\n",
       "                "
      ],
      "text/plain": [
       "<IPython.core.display.HTML object>"
      ]
     },
     "metadata": {},
     "output_type": "display_data"
    }
   ],
   "source": [
    "%load_ext jupyter_black"
   ]
  },
  {
   "cell_type": "code",
   "execution_count": 2,
   "metadata": {},
   "outputs": [],
   "source": [
    "from __future__ import annotations\n",
    "\n",
    "import time\n",
    "import itertools\n",
    "import random\n",
    "import numpy as np\n",
    "\n",
    "from mesoscaler.generic import DataWorker, DataConsumer\n",
    "import enum"
   ]
  },
  {
   "cell_type": "code",
   "execution_count": 3,
   "metadata": {},
   "outputs": [],
   "source": [
    "Index = tuple[int, int, int, int]\n",
    "\n",
    "\n",
    "DUMMY_DATA: dict[Index, np.ndarray] = {\n",
    "    # some dummy data either on disk or in\n",
    "    k: np.random.rand(100, 100)\n",
    "    for k in itertools.product([1, 2, 3], [4, 5, 6], [4, 5, 6], [4, 5, 6])\n",
    "}\n",
    "\n",
    "\n",
    "def get_data_from_disk(key: Index) -> np.ndarray:\n",
    "    time.sleep(0.1)  # io latency\n",
    "    return DUMMY_DATA[key]"
   ]
  },
  {
   "cell_type": "code",
   "execution_count": 4,
   "metadata": {},
   "outputs": [
    {
     "name": "stdout",
     "output_type": "stream",
     "text": [
      "81 20\n"
     ]
    }
   ],
   "source": [
    "indices = random.choices(list(DUMMY_DATA.keys()), k=20)\n",
    "\n",
    "print(len(DUMMY_DATA), len(indices))"
   ]
  },
  {
   "cell_type": "markdown",
   "metadata": {},
   "source": [
    "The worker class is `Mapping` that is instantiated with a Iterable sequence of indices."
   ]
  },
  {
   "cell_type": "code",
   "execution_count": 5,
   "metadata": {},
   "outputs": [
    {
     "name": "stdout",
     "output_type": "stream",
     "text": [
      "[[0.33573819 0.33037508 0.22273583 ... 0.38941492 0.3495945  0.3102927 ]\n",
      " [0.04058014 0.72918072 0.25039443 ... 0.782737   0.70239587 0.16724658]\n",
      " [0.48909019 0.39635605 0.5576222  ... 0.06440972 0.38304069 0.09661434]\n",
      " ...\n",
      " [0.70350836 0.86729886 0.67319113 ... 0.4088989  0.56947363 0.7441669 ]\n",
      " [0.22012821 0.1231793  0.9786876  ... 0.59367837 0.60208423 0.30414234]\n",
      " [0.41842666 0.15066768 0.10772211 ... 0.45023783 0.33957441 0.57182329]]\n"
     ]
    },
    {
     "data": {
      "text/plain": [
       "MyWorker(size=20):\n",
       "- (3, 4, 6, 5): [(<class 'types.Undefined'>,)]\n",
       "- (3, 6, 5, 5): [(<class 'types.Undefined'>,)]\n",
       "- (2, 4, 6, 5): [(<class 'types.Undefined'>,)]\n",
       "- (1, 5, 4, 4): [(<class 'types.Undefined'>,)]\n",
       "- (3, 5, 4, 5): [(<class 'types.Undefined'>,)]\n",
       "...\n",
       "- (2, 6, 6, 4): [(<class 'types.Undefined'>,)]"
      ]
     },
     "execution_count": 5,
     "metadata": {},
     "output_type": "execute_result"
    }
   ],
   "source": [
    "class MyWorker(DataWorker[Index, np.ndarray]):\n",
    "    def __getitem__(self, idx: Index) -> np.ndarray:\n",
    "        return get_data_from_disk(idx)\n",
    "\n",
    "\n",
    "worker = MyWorker(indices=indices)\n",
    "print(worker[indices[0]])\n",
    "worker"
   ]
  },
  {
   "cell_type": "code",
   "execution_count": 6,
   "metadata": {},
   "outputs": [
    {
     "name": "stdout",
     "output_type": "stream",
     "text": [
      "<class 'type'>\n"
     ]
    },
    {
     "data": {
      "text/plain": [
       "(str, int)"
      ]
     },
     "execution_count": 6,
     "metadata": {},
     "output_type": "execute_result"
    }
   ],
   "source": [
    "from typing import Any, Generic, TypeVar, get_args\n",
    "import types\n",
    "import typing\n",
    "\n",
    "K = TypeVar(\"K\")\n",
    "T = TypeVar(\"T\")\n",
    "import enum\n",
    "\n",
    "Undefined = enum.Enum(\"\", \"Undefined\")  # .Undefined\n",
    "TypingGenericAlias = getattr(typing, \"_GenericAlias\")\n",
    "print(type(TypingGenericAlias))\n",
    "\n",
    "\n",
    "class FirstOrderGeneric(Generic[K, T]):\n",
    "    __generic__: tuple[Any, ...]\n",
    "\n",
    "    def __init_subclass__(cls) -> None:\n",
    "        for arg in getattr(cls, \"__orig_bases__\", []):\n",
    "            if isinstance(arg, TypingGenericAlias):\n",
    "                cls.__generic__ = getattr(arg, \"__args__\", (Undefined,))\n",
    "                break\n",
    "\n",
    "\n",
    "class SomeBaseClass(FirstOrderGeneric[str, int], Generic[T]):\n",
    "    ...\n",
    "\n",
    "\n",
    "SomeBaseClass.__generic__  # prints \"<class 'int'>\""
   ]
  },
  {
   "cell_type": "code",
   "execution_count": 7,
   "metadata": {},
   "outputs": [
    {
     "ename": "AttributeError",
     "evalue": "'MyWorker' object has no attribute 'to_dict'",
     "output_type": "error",
     "traceback": [
      "\u001b[0;31m---------------------------------------------------------------------------\u001b[0m",
      "\u001b[0;31mAttributeError\u001b[0m                            Traceback (most recent call last)",
      "\u001b[1;32m/home/leaver/mesoscaler/notebooks/3. worker-consumer.ipynb Cell 8\u001b[0m line \u001b[0;36m1\n\u001b[0;32m----> <a href='vscode-notebook-cell://wsl%2Bubuntu-22.04/home/leaver/mesoscaler/notebooks/3.%20worker-consumer.ipynb#X10sdnNjb2RlLXJlbW90ZQ%3D%3D?line=0'>1</a>\u001b[0m worker\u001b[39m.\u001b[39;49mto_dict()\n",
      "\u001b[0;31mAttributeError\u001b[0m: 'MyWorker' object has no attribute 'to_dict'"
     ]
    }
   ],
   "source": [
    "worker.to_dict()"
   ]
  },
  {
   "cell_type": "code",
   "execution_count": null,
   "metadata": {},
   "outputs": [],
   "source": [
    "train, test = worker.split(0.8)\n",
    "test"
   ]
  },
  {
   "cell_type": "code",
   "execution_count": null,
   "metadata": {},
   "outputs": [],
   "source": [
    "from typing import get_type_hints\n",
    "\n",
    "# get_type_hints(worker.__class__)"
   ]
  },
  {
   "cell_type": "markdown",
   "metadata": {},
   "source": [
    "# DataConsumer\n",
    "\n",
    "Assuming there is some IO bottle neck involved with loading data from disk the\n",
    "`DataConsumer` can be used as a DataLoader that will queue up the data to be\n",
    "loaded in the background while the model is training."
   ]
  },
  {
   "cell_type": "code",
   "execution_count": null,
   "metadata": {},
   "outputs": [],
   "source": [
    "start = time.time()\n",
    "for idx in worker:\n",
    "    data = worker[idx]\n",
    "    time.sleep(0.1)\n",
    "print(\"worker:\", time.time() - start)\n",
    "\n",
    "start = time.time()\n",
    "for x in DataConsumer(worker):\n",
    "    time.sleep(0.1)\n",
    "print(\"consumer:\", time.time() - start)"
   ]
  }
 ],
 "metadata": {
  "kernelspec": {
   "display_name": ".venv",
   "language": "python",
   "name": "python3"
  },
  "language_info": {
   "codemirror_mode": {
    "name": "ipython",
    "version": 3
   },
   "file_extension": ".py",
   "mimetype": "text/x-python",
   "name": "python",
   "nbconvert_exporter": "python",
   "pygments_lexer": "ipython3",
   "version": "3.10.12"
  }
 },
 "nbformat": 4,
 "nbformat_minor": 2
}
