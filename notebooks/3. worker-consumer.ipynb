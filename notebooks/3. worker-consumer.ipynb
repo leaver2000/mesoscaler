{
 "cells": [
  {
   "cell_type": "code",
   "execution_count": null,
   "metadata": {},
   "outputs": [],
   "source": [
    "%load_ext jupyter_black"
   ]
  },
  {
   "cell_type": "code",
   "execution_count": 114,
   "metadata": {},
   "outputs": [
    {
     "data": {
      "text/plain": [
       "True"
      ]
     },
     "execution_count": 114,
     "metadata": {},
     "output_type": "execute_result"
    }
   ],
   "source": [
    "from __future__ import annotations\n",
    "\n",
    "import time\n",
    "import itertools\n",
    "import random\n",
    "import numpy as np\n",
    "\n",
    "# from mesoscaler.generic import DataWorker, DataConsumer\n",
    "import enum\n"
   ]
  },
  {
   "cell_type": "code",
   "execution_count": null,
   "metadata": {},
   "outputs": [],
   "source": [
    "Index = tuple[int, int, int, int]\n",
    "\n",
    "\n",
    "DUMMY_DATA: dict[Index, np.ndarray] = {\n",
    "    # some dummy data either on disk or in\n",
    "    k: np.random.rand(100, 100)\n",
    "    for k in itertools.product([1, 2, 3], [4, 5, 6], [4, 5, 6], [4, 5, 6])\n",
    "}\n",
    "\n",
    "\n",
    "def get_data_from_disk(key: Index) -> np.ndarray:\n",
    "    time.sleep(0.1)  # io latency\n",
    "    return DUMMY_DATA[key]"
   ]
  },
  {
   "cell_type": "code",
   "execution_count": null,
   "metadata": {},
   "outputs": [],
   "source": [
    "indices = random.choices(list(DUMMY_DATA.keys()), k=20)\n",
    "\n",
    "print(len(DUMMY_DATA), len(indices))"
   ]
  },
  {
   "cell_type": "markdown",
   "metadata": {},
   "source": [
    "The worker class is `Mapping` that is instantiated with a Iterable sequence of indices."
   ]
  },
  {
   "cell_type": "code",
   "execution_count": null,
   "metadata": {},
   "outputs": [],
   "source": [
    "class MyWorker(DataWorker[Index, np.ndarray]):\n",
    "    def __getitem__(self, idx: Index) -> np.ndarray:\n",
    "        return get_data_from_disk(idx)\n",
    "\n",
    "\n",
    "worker = MyWorker(indices=indices)\n",
    "print(worker[indices[0]])\n",
    "worker"
   ]
  },
  {
   "cell_type": "code",
   "execution_count": null,
   "metadata": {},
   "outputs": [],
   "source": [
    "from typing import Any, Generic, TypeVar, get_args\n",
    "import types\n",
    "import typing\n",
    "\n",
    "K = TypeVar(\"K\")\n",
    "T = TypeVar(\"T\")\n",
    "import enum\n",
    "\n",
    "Undefined = enum.Enum(\"\", \"Undefined\")  # .Undefined\n",
    "TypingGenericAlias = getattr(typing, \"_GenericAlias\")\n",
    "print(type(TypingGenericAlias))\n",
    "\n",
    "\n",
    "class FirstOrderGeneric(Generic[K, T]):\n",
    "    __generic__: tuple[Any, ...]\n",
    "\n",
    "    def __init_subclass__(cls) -> None:\n",
    "        for arg in getattr(cls, \"__orig_bases__\", []):\n",
    "            if isinstance(arg, TypingGenericAlias):\n",
    "                cls.__generic__ = getattr(arg, \"__args__\", (Undefined,))\n",
    "                break\n",
    "\n",
    "\n",
    "class SomeBaseClass(FirstOrderGeneric[str, int], Generic[T]):\n",
    "    ...\n",
    "\n",
    "\n",
    "SomeBaseClass.__generic__  # prints \"<class 'int'>\""
   ]
  },
  {
   "cell_type": "code",
   "execution_count": null,
   "metadata": {},
   "outputs": [],
   "source": [
    "worker.to_dict()"
   ]
  },
  {
   "cell_type": "code",
   "execution_count": null,
   "metadata": {},
   "outputs": [],
   "source": [
    "train, test = worker.split(0.8)\n",
    "test"
   ]
  },
  {
   "cell_type": "code",
   "execution_count": null,
   "metadata": {},
   "outputs": [],
   "source": [
    "from typing import get_type_hints\n",
    "\n",
    "# get_type_hints(worker.__class__)"
   ]
  },
  {
   "cell_type": "markdown",
   "metadata": {},
   "source": [
    "# DataConsumer\n",
    "\n",
    "Assuming there is some IO bottle neck involved with loading data from disk the\n",
    "`DataConsumer` can be used as a DataLoader that will queue up the data to be\n",
    "loaded in the background while the model is training."
   ]
  },
  {
   "cell_type": "code",
   "execution_count": null,
   "metadata": {},
   "outputs": [],
   "source": [
    "start = time.time()\n",
    "for idx in worker:\n",
    "    data = worker[idx]\n",
    "    time.sleep(0.1)\n",
    "print(\"worker:\", time.time() - start)\n",
    "\n",
    "start = time.time()\n",
    "for x in DataConsumer(worker):\n",
    "    time.sleep(0.1)\n",
    "print(\"consumer:\", time.time() - start)"
   ]
  }
 ],
 "metadata": {
  "kernelspec": {
   "display_name": ".venv",
   "language": "python",
   "name": "python3"
  },
  "language_info": {
   "codemirror_mode": {
    "name": "ipython",
    "version": 3
   },
   "file_extension": ".py",
   "mimetype": "text/x-python",
   "name": "python",
   "nbconvert_exporter": "python",
   "pygments_lexer": "ipython3",
   "version": "3.10.12"
  }
 },
 "nbformat": 4,
 "nbformat_minor": 2
}
