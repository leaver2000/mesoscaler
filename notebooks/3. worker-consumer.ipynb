{
 "cells": [
  {
   "cell_type": "code",
   "execution_count": 1,
   "metadata": {},
   "outputs": [
    {
     "data": {
      "text/html": [
       "\n",
       "                <script type=\"application/javascript\" id=\"jupyter_black\">\n",
       "                (function() {\n",
       "                    if (window.IPython === undefined) {\n",
       "                        return\n",
       "                    }\n",
       "                    var msg = \"WARNING: it looks like you might have loaded \" +\n",
       "                        \"jupyter_black in a non-lab notebook with \" +\n",
       "                        \"`is_lab=True`. Please double check, and if \" +\n",
       "                        \"loading with `%load_ext` please review the README!\"\n",
       "                    console.log(msg)\n",
       "                    alert(msg)\n",
       "                })()\n",
       "                </script>\n",
       "                "
      ],
      "text/plain": [
       "<IPython.core.display.HTML object>"
      ]
     },
     "metadata": {},
     "output_type": "display_data"
    }
   ],
   "source": [
    "%load_ext jupyter_black"
   ]
  },
  {
   "cell_type": "code",
   "execution_count": 2,
   "metadata": {},
   "outputs": [],
   "source": [
    "from __future__ import annotations\n",
    "\n",
    "import time\n",
    "import itertools\n",
    "import random\n",
    "import numpy as np\n",
    "\n",
    "from mesoscaler.generic import DataWorker, DataConsumer\n",
    "from mesoscaler._typing import Array, N, N4"
   ]
  },
  {
   "cell_type": "code",
   "execution_count": 3,
   "metadata": {},
   "outputs": [],
   "source": [
    "Index = tuple[int, int, int, int]\n",
    "\n",
    "\n",
    "DUMMY_DATA: dict[Index, np.ndarray] = {\n",
    "    # some dummy data either on disk or in\n",
    "    k: np.random.rand(100, 100)\n",
    "    for k in itertools.product([1, 2, 3], [4, 5, 6], [4, 5, 6], [4, 5, 6])\n",
    "}\n",
    "\n",
    "\n",
    "def get_data_from_disk(key: Index) -> np.ndarray:\n",
    "    time.sleep(0.1)  # io latency\n",
    "    return DUMMY_DATA[key]"
   ]
  },
  {
   "cell_type": "code",
   "execution_count": 4,
   "metadata": {},
   "outputs": [
    {
     "name": "stdout",
     "output_type": "stream",
     "text": [
      "81 20\n"
     ]
    }
   ],
   "source": [
    "indices = random.choices(list(DUMMY_DATA.keys()), k=20)\n",
    "\n",
    "print(len(DUMMY_DATA), len(indices))"
   ]
  },
  {
   "cell_type": "markdown",
   "metadata": {},
   "source": [
    "The worker class is `Mapping` that is instantiated with a Iterable sequence of indices."
   ]
  },
  {
   "cell_type": "code",
   "execution_count": 5,
   "metadata": {},
   "outputs": [
    {
     "name": "stdout",
     "output_type": "stream",
     "text": [
      "MyWorker(size=20):\n",
      "- (2, 5, 4, 5): ndarray[(100, 100), dtype[float64]]\n",
      "- (1, 4, 5, 4): ndarray[(100, 100), dtype[float64]]\n",
      "- (1, 5, 4, 5): ndarray[(100, 100), dtype[float64]]\n",
      "- (2, 4, 5, 6): ndarray[(100, 100), dtype[float64]]\n",
      "- (2, 5, 4, 4): ndarray[(100, 100), dtype[float64]]\n",
      "...\n",
      "- (2, 4, 6, 6): ndarray[(100, 100), dtype[float64]]\n",
      "(100, 100)\n"
     ]
    }
   ],
   "source": [
    "from numpy.typing import NDArray\n",
    "from typing import NewType\n",
    "\n",
    "_100 = NewType(\"100\", int)  # type: ignore\n",
    "\n",
    "\n",
    "class MyWorker(DataWorker[Index, Array[[_100, _100], np.float_]]):\n",
    "    def __getitem__(self, idx: Index) -> Array[[_100, _100], np.float_]:\n",
    "        return get_data_from_disk(idx)\n",
    "\n",
    "\n",
    "worker = MyWorker(indices=indices)\n",
    "data = worker[indices[0]]\n",
    "print(worker, data.shape, sep=\"\\n\")"
   ]
  },
  {
   "cell_type": "code",
   "execution_count": 8,
   "metadata": {},
   "outputs": [
    {
     "data": {
      "text/plain": [
       "MyWorker[test](size=4):\n",
       "- (1, 4, 4, 5): ndarray[(100, 100), dtype[float64]]\n",
       "- (1, 5, 5, 5): ndarray[(100, 100), dtype[float64]]\n",
       "- (2, 5, 6, 5): ndarray[(100, 100), dtype[float64]]\n",
       "- (2, 4, 6, 6): ndarray[(100, 100), dtype[float64]]\n",
       "...\n",
       "- (2, 4, 6, 6): ndarray[(100, 100), dtype[float64]]"
      ]
     },
     "execution_count": 8,
     "metadata": {},
     "output_type": "execute_result"
    }
   ],
   "source": [
    "train, test = worker.split(0.8)\n",
    "test"
   ]
  },
  {
   "cell_type": "markdown",
   "metadata": {},
   "source": [
    "# DataConsumer\n",
    "\n",
    "Assuming there is some IO bottle neck involved with loading data from disk the\n",
    "`DataConsumer` can be used as a DataLoader that will queue up the data to be\n",
    "loaded in the background while the model is training."
   ]
  },
  {
   "cell_type": "code",
   "execution_count": 10,
   "metadata": {},
   "outputs": [
    {
     "name": "stdout",
     "output_type": "stream",
     "text": [
      "worker: 4.006312370300293\n",
      "consumer: 2.104593276977539\n"
     ]
    }
   ],
   "source": [
    "start = time.time()\n",
    "for idx in worker:\n",
    "    data = worker[idx]\n",
    "    time.sleep(0.1)\n",
    "print(\"worker:\", time.time() - start)\n",
    "\n",
    "start = time.time()\n",
    "for x in DataConsumer(worker):\n",
    "    time.sleep(0.1)\n",
    "print(\"consumer:\", time.time() - start)"
   ]
  }
 ],
 "metadata": {
  "kernelspec": {
   "display_name": ".venv",
   "language": "python",
   "name": "python3"
  },
  "language_info": {
   "codemirror_mode": {
    "name": "ipython",
    "version": 3
   },
   "file_extension": ".py",
   "mimetype": "text/x-python",
   "name": "python",
   "nbconvert_exporter": "python",
   "pygments_lexer": "ipython3",
   "version": "3.10.12"
  }
 },
 "nbformat": 4,
 "nbformat_minor": 2
}
