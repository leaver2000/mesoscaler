{
  "cells": [
    {
      "cell_type": "code",
      "execution_count": 1,
      "metadata": {},
      "outputs": [
        {
          "data": {
            "text/html": [
              "\n",
              "                <script type=\"application/javascript\" id=\"jupyter_black\">\n",
              "                (function() {\n",
              "                    if (window.IPython === undefined) {\n",
              "                        return\n",
              "                    }\n",
              "                    var msg = \"WARNING: it looks like you might have loaded \" +\n",
              "                        \"jupyter_black in a non-lab notebook with \" +\n",
              "                        \"`is_lab=True`. Please double check, and if \" +\n",
              "                        \"loading with `%load_ext` please review the README!\"\n",
              "                    console.log(msg)\n",
              "                    alert(msg)\n",
              "                })()\n",
              "                </script>\n",
              "                "
            ],
            "text/plain": [
              "<IPython.core.display.HTML object>"
            ]
          },
          "metadata": {},
          "output_type": "display_data"
        }
      ],
      "source": [
        "from __future__ import annotations\n",
        "\n",
        "%load_ext jupyter_black"
      ]
    },
    {
      "cell_type": "code",
      "execution_count": 2,
      "metadata": {},
      "outputs": [],
      "source": [
        "import numpy as np\n",
        "import mesoscaler as ms"
      ]
    },
    {
      "cell_type": "markdown",
      "metadata": {},
      "source": [
        "This application uses Enums to define Independent (ms.Coordinates and ms.Dimensions) and Dependent Variables (Variables).\n",
        "In order to process multiple datasets a standard Coordinate and Dimension naming convention is required. Much of the\n",
        "scheme was taken from the Climate and Forecast Metadata Conventions (CF)."
      ]
    },
    {
      "cell_type": "markdown",
      "metadata": {},
      "source": [
        "# Coordinates and Dimensions (Independent Variables)\n",
        "The enums are a subset of a string. So their actual `.value` is a true `LiteralString` and the `EnumMember` is subset\n",
        "of that. The `Enum.__call__` can either be called with the member.name, member.value, the member it'self or any of the aliases.\n"
      ]
    },
    {
      "cell_type": "code",
      "execution_count": 3,
      "metadata": {},
      "outputs": [
        {
          "name": "stdout",
          "output_type": "stream",
          "text": [
            "Coordinates:\n",
            "-      time: time\n",
            "-  vertical: vertical\n",
            "-  latitude: latitude\n",
            "- longitude: longitude\n",
            "\n",
            "Dimensions:\n",
            "- T: T\n",
            "- Z: Z\n",
            "- Y: Y\n",
            "- X: X\n",
            "\n",
            "ms.Coordinates.vertical.name = 'vertical'\n",
            "ms.Coordinates.vertical.value = 'vertical'\n",
            "ms.Coordinates.vertical.axis = (Z,)\n",
            "ms.Coordinates.vertical.aliases = ['level', 'height']\n",
            "ms.Coordinates(ms.Coordinates.vertical.aliases) = [vertical]\n",
            "ms.Coordinates('height') = vertical\n",
            "ms.Coordinates('level') = vertical\n",
            "\n"
          ]
        }
      ],
      "source": [
        "print(\n",
        "    ms.Coordinates,\n",
        "    ms.Dimensions,\n",
        "    f\"\"\"\\\n",
        "{ms.Coordinates.vertical.name = }\n",
        "{ms.Coordinates.vertical.value = }\n",
        "{ms.Coordinates.vertical.axis = }\n",
        "{ms.Coordinates.vertical.aliases = }\n",
        "{ms.Coordinates(ms.Coordinates.vertical.aliases) = }\n",
        "{ms.Coordinates('height') = }\n",
        "{ms.Coordinates('level') = }\n",
        "\"\"\",\n",
        "    sep=\"\\n\\n\",\n",
        ")\n",
        "assert ms.Coordinates(\"level\") == ms.Coordinates.vertical == ms.Coordinates(\"height\") == \"vertical\"\n",
        "assert ms.Coordinates.vertical.axis == (ms.Dimensions.Z,)\n",
        "assert all(issubclass(x, ms.IndependentVariables) for x in (ms.Coordinates, ms.Dimensions))"
      ]
    },
    {
      "cell_type": "markdown",
      "metadata": {},
      "source": [
        "# ERA5 and URMA (Dependent Variables)\n",
        "\n",
        "The 2 datasets used in used initially are the era5 and urma, there are some scripts do download and process the data\n",
        "into `.zarr` files. "
      ]
    },
    {
      "cell_type": "code",
      "execution_count": 4,
      "metadata": {},
      "outputs": [
        {
          "name": "stdout",
          "output_type": "stream",
          "text": [
            "ERA5:\n",
            "- Z: geopotential\n",
            "- Q: specific_humidity\n",
            "- T: temperature\n",
            "- U: u_component_of_wind\n",
            "- V: v_component_of_wind\n",
            "- W: vertical_velocity\n",
            "URMA:\n",
            "-    TCC: total_cloud_cover\n",
            "-   CEIL: ceiling\n",
            "-    U10: u_wind_component_10m\n",
            "-    V10: v_wind_component_10m\n",
            "-   SI10: wind_speed_10m\n",
            "-   GUST: wind_speed_gust\n",
            "- WDIR10: wind_direction_10m\n",
            "-    T2M: temperature_2m\n",
            "-    D2M: dewpoint_temperature_2m\n",
            "-    SH2: specific_humidity_2m\n",
            "-     SP: surface_pressure\n",
            "-    VIS: visibility\n",
            "-   OROG: orography\n"
          ]
        }
      ],
      "source": [
        "print(ms.ERA5, ms.URMA, sep=\"\\n\")\n",
        "assert ms.ERA5(\"Z\") is ms.ERA5(\"z\") is ms.ERA5.Z is ms.ERA5(\"geopotential\") and ms.ERA5.Z == \"geopotential\"\n",
        "assert ms.ERA5(\"z\") is ms.ERA5.Z\n",
        "assert ms.ERA5(\"z\") == ms.ERA5.Z\n",
        "assert (\n",
        "    ms.ERA5(\"u\") is ms.ERA5[\"U\"] is ms.ERA5.loc[\"U\"] is ms.ERA5.U is ms.ERA5(\"u_component_of_wind\")\n",
        "    and ms.ERA5.U == \"u_component_of_wind\"\n",
        ")\n",
        "\n",
        "assert (\n",
        "    set(ms.ERA5).difference(ms.ERA5([\"u\", \"v\"]))\n",
        "    == ms.ERA5.difference([\"u\", \"v\"])\n",
        "    == {ms.ERA5.Q, ms.ERA5.T, ms.ERA5.W, ms.ERA5.Z}\n",
        ")\n",
        "assert set(ms.ERA5).intersection(ms.ERA5([\"u\", \"v\"])) == ms.ERA5.intersection([\"u\", \"v\"]) == {ms.ERA5.U, ms.ERA5.V}\n",
        "assert all(issubclass(x, ms.DependentVariables) for x in (ms.ERA5, ms.ERA5))"
      ]
    },
    {
      "cell_type": "code",
      "execution_count": 5,
      "metadata": {},
      "outputs": [
        {
          "data": {
            "text/plain": [
              "(u_component_of_wind, v_component_of_wind, geopotential)"
            ]
          },
          "execution_count": 5,
          "metadata": {},
          "output_type": "execute_result"
        }
      ],
      "source": [
        "(u, v), z = ms.ERA5.loc[[\"U\", \"V\"]], ms.ERA5.loc[\"Z\"]\n",
        "\n",
        "u, v, z"
      ]
    },
    {
      "cell_type": "code",
      "execution_count": 6,
      "metadata": {},
      "outputs": [
        {
          "data": {
            "text/plain": [
              "{u_component_of_wind, v_component_of_wind}"
            ]
          },
          "execution_count": 6,
          "metadata": {},
          "output_type": "execute_result"
        }
      ],
      "source": [
        "ms.ERA5.intersection([\"u\", \"v\"])"
      ]
    },
    {
      "cell_type": "code",
      "execution_count": 7,
      "metadata": {},
      "outputs": [
        {
          "name": "stdout",
          "output_type": "stream",
          "text": [
            "<Geographic 2D CRS: EPSG:4326>\n",
            "Name: WGS 84\n",
            "Axis Info [ellipsoidal]:\n",
            "- Lat[north]: Geodetic latitude (degree)\n",
            "- Lon[east]: Geodetic longitude (degree)\n",
            "Area of Use:\n",
            "- name: World.\n",
            "- bounds: (-180.0, -90.0, 180.0, 90.0)\n",
            "Datum: World Geodetic System 1984 ensemble\n",
            "- Ellipsoid: WGS 84\n",
            "- Prime Meridian: Greenwich\n",
            "\n"
          ]
        }
      ],
      "source": [
        "# the crs is loaded lazily\n",
        "assert \"crs\" not in ms.ERA5.metadata\n",
        "print(repr(ms.ERA5.crs))\n",
        "assert \"crs\" in ms.ERA5.metadata"
      ]
    },
    {
      "cell_type": "code",
      "execution_count": 8,
      "metadata": {},
      "outputs": [
        {
          "name": "stdout",
          "output_type": "stream",
          "text": [
            "{'crs': <Geographic 2D CRS: EPSG:4326>\n",
            "Name: WGS 84\n",
            "Axis Info [ellipsoidal]:\n",
            "- Lat[north]: Geodetic latitude (degree)\n",
            "- Lon[east]: Geodetic longitude (degree)\n",
            "Area of Use:\n",
            "- name: World.\n",
            "- bounds: (-180.0, -90.0, 180.0, 90.0)\n",
            "Datum: World Geodetic System 1984 ensemble\n",
            "- Ellipsoid: WGS 84\n",
            "- Prime Meridian: Greenwich\n",
            "}\n",
            "{'units': 'm**2 s**-2'}\n",
            "{'name': 'ERA5', '__metadata_cls_data__': {'crs': <Geographic 2D CRS: EPSG:4326>\n",
            "Name: WGS 84\n",
            "Axis Info [ellipsoidal]:\n",
            "- Lat[north]: Geodetic latitude (degree)\n",
            "- Lon[east]: Geodetic longitude (degree)\n",
            "Area of Use:\n",
            "- name: World.\n",
            "- bounds: (-180.0, -90.0, 180.0, 90.0)\n",
            "Datum: World Geodetic System 1984 ensemble\n",
            "- Ellipsoid: WGS 84\n",
            "- Prime Meridian: Greenwich\n",
            "}, '__metadata_loc__': <mesoscaler._metadata._Loc object at 0x7f0cd945dcf0>, '__metadata_member_aliases__':    Z  Q  T  U  V  W\n",
            "0  z  q  t  u  v  w, '__metadata_series__': member_names\n",
            "Z           geopotential\n",
            "Q      specific_humidity\n",
            "T            temperature\n",
            "U    u_component_of_wind\n",
            "V    v_component_of_wind\n",
            "W      vertical_velocity\n",
            "Name: ERA5, dtype: category\n",
            "Categories (6, object): ['geopotential', 'specific_humidity', 'temperature', 'u_component_of_wind', 'v_component_of_wind', 'vertical_velocity'], '__metadata_member_data__': mappingproxy(defaultdict(<class 'dict'>, {'Z': {'units': 'm**2 s**-2'}, 'Q': {'units': 'kg kg**-1'}, 'T': {'units': 'K'}, 'U': {'units': 'm s**-1'}, 'V': {'units': 'm s**-1'}, 'W': {'units': 'Pa s**-1'}, 'units': {}}))}\n"
          ]
        }
      ],
      "source": [
        "print(\n",
        "    ms.ERA5.metadata,\n",
        "    ms.ERA5.Z.metadata,\n",
        "    ms.ERA5.__metadata__,\n",
        "    sep=\"\\n\",\n",
        ")"
      ]
    },
    {
      "cell_type": "code",
      "execution_count": 9,
      "metadata": {},
      "outputs": [
        {
          "name": "stdout",
          "output_type": "stream",
          "text": [
            "{specific_humidity, vertical_velocity, geopotential}\n",
            "{specific_humidity, vertical_velocity, geopotential}\n",
            "[temperature, u_component_of_wind, v_component_of_wind]\n"
          ]
        }
      ],
      "source": [
        "print(\n",
        "    ms.ERA5.difference(list(\"tuv\")),\n",
        "    ms.ERA5.difference(ms.ERA5(list(\"tuv\"))),\n",
        "    ms.ERA5(list(\"tuv\")),\n",
        "    sep=\"\\n\",\n",
        ")"
      ]
    },
    {
      "cell_type": "code",
      "execution_count": 10,
      "metadata": {},
      "outputs": [],
      "source": [
        "assert ms.Coordinates.intersection([\"vertical\", \"time\", \"latitude\", \"longitude\"]) == set(ms.Coordinates)\n",
        "assert ms.Coordinates.difference(list(ms.Coordinates)) == set() == set(ms.Coordinates).difference(iter(ms.Coordinates))\n",
        "assert ms.Dimensions.intersection([\"time\", \"latitude\", \"longitude\"]) == {\n",
        "    ms.Dimensions.T,\n",
        "    ms.Dimensions.X,\n",
        "    ms.Dimensions.Y,\n",
        "}"
      ]
    },
    {
      "cell_type": "markdown",
      "metadata": {},
      "source": [
        "## time64.Time64\n",
        "\n",
        "The time64 module provides an interface to `numpy.datetime64` and `numpy.timedelta64` objects and `Array[..., np.datetime64 | np.timedelta64]` \n",
        "\n",
        "with methods for creating time batches and time ranges."
      ]
    },
    {
      "cell_type": "code",
      "execution_count": 11,
      "metadata": {},
      "outputs": [
        {
          "data": {
            "text/plain": [
              "array(['2022-01-01T00', '2022-01-01T02', '2022-01-01T04', '2022-01-01T06',\n",
              "       '2022-01-01T08', '2022-01-01T10', '2022-01-01T12', '2022-01-01T14',\n",
              "       '2022-01-01T16', '2022-01-01T18', '2022-01-01T20', '2022-01-01T22'],\n",
              "      dtype='datetime64[h]')"
            ]
          },
          "execution_count": 11,
          "metadata": {},
          "output_type": "execute_result"
        }
      ],
      "source": [
        "import datetime\n",
        "\n",
        "assert (\n",
        "    \"h\"\n",
        "    == ms.hours\n",
        "    == ms.time64.Time64(\"h\")\n",
        "    == ms.time64.Time64(\"hours\")\n",
        "    == ms.time64.Time64(\"datetime64[h]\")\n",
        "    == ms.time64.Time64(\"timedelta64[h]\")\n",
        ")\n",
        "assert (\n",
        "    ms.hours.datetime(\"2022-01-01\")\n",
        "    == ms.hours.datetime(2022, 1, 1)\n",
        "    == ms.hours.datetime(datetime.datetime(2022, 1, 1))\n",
        "    == ms.hours.datetime(np.datetime64(\"2022-01-01\"))\n",
        "    == np.datetime64(\"2022-01-01\", \"h\")\n",
        ")\n",
        "assert ms.hours.delta(2) == np.timedelta64(2, \"h\")\n",
        "assert ms.hours.infer_dtype(datetime.datetime(2022, 1, 1)) == np.dtype(\"datetime64[h]\")\n",
        "assert ms.hours.infer_dtype(datetime.timedelta(hours=1)) == np.dtype(\"timedelta64[h]\")\n",
        "\n",
        "\n",
        "ms.hours.arange(\"2022-01-01\", \"2022-01-02\", 2)\n",
        "\n",
        "\n",
        "ms.hours.arange(\"2022-01-01\", \"2022-01-02\", 2)"
      ]
    },
    {
      "cell_type": "code",
      "execution_count": 12,
      "metadata": {},
      "outputs": [
        {
          "name": "stdout",
          "output_type": "stream",
          "text": [
            "not supported: np.arange(\"2022-01-01\", \"2022-01-06\", 6)\n",
            "Array size 1460 is not divisible by batch size 40.\n",
            "try using a size of:\n",
            "[   1    2    4    5   10   20   73  146  292  365  730 1460]\n"
          ]
        },
        {
          "data": {
            "text/plain": [
              "array([['2022-01-01T00', '2022-01-01T06', '2022-01-01T12', ...,\n",
              "        '2022-01-05T06', '2022-01-05T12', '2022-01-05T18'],\n",
              "       ['2022-01-06T00', '2022-01-06T06', '2022-01-06T12', ...,\n",
              "        '2022-01-10T06', '2022-01-10T12', '2022-01-10T18'],\n",
              "       ['2022-01-11T00', '2022-01-11T06', '2022-01-11T12', ...,\n",
              "        '2022-01-15T06', '2022-01-15T12', '2022-01-15T18'],\n",
              "       ...,\n",
              "       ['2022-12-17T00', '2022-12-17T06', '2022-12-17T12', ...,\n",
              "        '2022-12-21T06', '2022-12-21T12', '2022-12-21T18'],\n",
              "       ['2022-12-22T00', '2022-12-22T06', '2022-12-22T12', ...,\n",
              "        '2022-12-26T06', '2022-12-26T12', '2022-12-26T18'],\n",
              "       ['2022-12-27T00', '2022-12-27T06', '2022-12-27T12', ...,\n",
              "        '2022-12-31T06', '2022-12-31T12', '2022-12-31T18']],\n",
              "      dtype='datetime64[h]')"
            ]
          },
          "execution_count": 12,
          "metadata": {},
          "output_type": "execute_result"
        }
      ],
      "source": [
        "try:\n",
        "    np.arange(\"2022-01-01\", \"2022-01-06\", 6)\n",
        "except TypeError as e:\n",
        "    print('not supported: np.arange(\"2022-01-01\", \"2022-01-06\", 6)')\n",
        "\n",
        "\n",
        "try:\n",
        "    ms.hours.batch(\"2022-01-01\", \"2023-01-01\", 6, size=40)\n",
        "except ValueError as e:\n",
        "    print(e)\n",
        "ms.hours.batch(\"2022-01-01\", \"2023-01-01\", 6, size=20)"
      ]
    },
    {
      "cell_type": "markdown",
      "metadata": {},
      "source": [
        "# Type Annotations and Documentation\n",
        "\n",
        "Many of the functions are type annotated to include the expected shape and data type of arrays.\n",
        "the `mesoscaler._typing` module contains supports compatiblity from Python 3.9-3.11."
      ]
    },
    {
      "cell_type": "code",
      "execution_count": 13,
      "metadata": {},
      "outputs": [
        {
          "data": {
            "text/plain": [
              "(numpy.ndarray[(Ellipsis,), numpy.dtype[numpy.float64]],\n",
              " numpy.ndarray[(mesoscaler._typing.N, mesoscaler._typing.N, typing.Literal[4]), numpy.dtype[typing.Any]])"
            ]
          },
          "execution_count": 13,
          "metadata": {},
          "output_type": "execute_result"
        }
      ],
      "source": [
        "from typing import Concatenate, Any, TypeAlias, Literal as L\n",
        "from mesoscaler._typing import Array, Nd, N\n",
        "\n",
        "assert Nd is Concatenate  # type: ignore\n",
        "\n",
        "\n",
        "FloatArray: TypeAlias = Array[[...], np.float_]  # type: type[np.ndarray[Nd[...], np.dtype[np.floating[Any]]]]\n",
        "ShapedArray: TypeAlias = Array[[N, N, L[4]], Any]\n",
        "\n",
        "FloatArray, ShapedArray"
      ]
    }
  ],
  "metadata": {
    "kernelspec": {
      "display_name": ".venv",
      "language": "python",
      "name": "python3"
    },
    "language_info": {
      "codemirror_mode": {
        "name": "ipython",
        "version": 3
      },
      "file_extension": ".py",
      "mimetype": "text/x-python",
      "name": "python",
      "nbconvert_exporter": "python",
      "pygments_lexer": "ipython3",
      "version": "3.10.12"
    },
    "orig_nbformat": 4
  },
  "nbformat": 4,
  "nbformat_minor": 2
}
