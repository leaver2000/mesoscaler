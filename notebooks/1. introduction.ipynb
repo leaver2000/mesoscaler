{
  "cells": [
    {
      "cell_type": "code",
      "execution_count": 1,
      "metadata": {},
      "outputs": [
        {
          "data": {
            "text/html": [
              "\n",
              "                <script type=\"application/javascript\" id=\"jupyter_black\">\n",
              "                (function() {\n",
              "                    if (window.IPython === undefined) {\n",
              "                        return\n",
              "                    }\n",
              "                    var msg = \"WARNING: it looks like you might have loaded \" +\n",
              "                        \"jupyter_black in a non-lab notebook with \" +\n",
              "                        \"`is_lab=True`. Please double check, and if \" +\n",
              "                        \"loading with `%load_ext` please review the README!\"\n",
              "                    console.log(msg)\n",
              "                    alert(msg)\n",
              "                })()\n",
              "                </script>\n",
              "                "
            ],
            "text/plain": [
              "<IPython.core.display.HTML object>"
            ]
          },
          "metadata": {},
          "output_type": "display_data"
        }
      ],
      "source": [
        "from __future__ import annotations\n",
        "\n",
        "%load_ext jupyter_black"
      ]
    },
    {
      "cell_type": "code",
      "execution_count": 3,
      "metadata": {},
      "outputs": [],
      "source": [
        "from mesoscaler import ERA5, URMA, Coordinates, Dimensions, IndependentVariables, DependentVariables"
      ]
    },
    {
      "cell_type": "markdown",
      "metadata": {},
      "source": [
        "This application uses Enums to define Independent (Coordinates and Dimensions) and Dependent Variables (Variables).\n",
        "In order to process multiple datasets a standard Coordinate and Dimension naming convention is required. Much of the\n",
        "scheme was taken from the Climate and Forecast Metadata Conventions (CF)."
      ]
    },
    {
      "cell_type": "markdown",
      "metadata": {},
      "source": [
        "# Coordinates and Dimensions (Independent Variables)\n",
        "The enums are a subset of a string. So their actual `.value` is a true `LiteralString` and the `EnumMember` is subset\n",
        "of that. The `Enum.__call__` can either be called with the member.name, member.value, the member it'self or any of the aliases.\n"
      ]
    },
    {
      "cell_type": "code",
      "execution_count": 4,
      "metadata": {},
      "outputs": [
        {
          "name": "stdout",
          "output_type": "stream",
          "text": [
            "Coordinates:\n",
            "-      time: time\n",
            "-  vertical: vertical\n",
            "-  latitude: latitude\n",
            "- longitude: longitude\n",
            "\n",
            "Dimensions:\n",
            "- T: T\n",
            "- Z: Z\n",
            "- Y: Y\n",
            "- X: X\n",
            "\n",
            "Coordinates.vertical.name = 'vertical'\n",
            "Coordinates.vertical.value = 'vertical'\n",
            "Coordinates.vertical.axis = (Z,)\n",
            "Coordinates.vertical.aliases = ['level', 'height']\n",
            "Coordinates(Coordinates.vertical.aliases) = [vertical]\n",
            "Coordinates('height') = vertical\n",
            "Coordinates('level') = vertical\n",
            "\n"
          ]
        }
      ],
      "source": [
        "print(\n",
        "    Coordinates,\n",
        "    Dimensions,\n",
        "    f\"\"\"\\\n",
        "{Coordinates.vertical.name = }\n",
        "{Coordinates.vertical.value = }\n",
        "{Coordinates.vertical.axis = }\n",
        "{Coordinates.vertical.aliases = }\n",
        "{Coordinates(Coordinates.vertical.aliases) = }\n",
        "{Coordinates('height') = }\n",
        "{Coordinates('level') = }\n",
        "\"\"\",\n",
        "    sep=\"\\n\\n\",\n",
        ")\n",
        "assert Coordinates(\"level\") == Coordinates.vertical == Coordinates(\"height\") == \"vertical\"\n",
        "assert Coordinates.vertical.axis == (Dimensions.Z,)\n",
        "assert all(issubclass(x, IndependentVariables) for x in (Coordinates, Dimensions))"
      ]
    },
    {
      "cell_type": "markdown",
      "metadata": {},
      "source": [
        "# ERA5 and URMA (Dependent Variables)\n",
        "\n",
        "The 2 datasets used in used initially are the era5 and urma, there are some scripts do download and process the data\n",
        "into `.zarr` files. \n",
        "\n",
        "\n",
        "\n",
        "\n",
        "\n",
        "\n",
        "\n",
        "\n",
        "\n",
        "\n",
        "\n",
        "\n",
        "\n"
      ]
    },
    {
      "cell_type": "code",
      "execution_count": 5,
      "metadata": {},
      "outputs": [
        {
          "name": "stdout",
          "output_type": "stream",
          "text": [
            "ERA5:\n",
            "- Z: geopotential\n",
            "- Q: specific_humidity\n",
            "- T: temperature\n",
            "- U: u_component_of_wind\n",
            "- V: v_component_of_wind\n",
            "- W: vertical_velocity\n",
            "URMA:\n",
            "-    TCC: total_cloud_cover\n",
            "-   CEIL: ceiling\n",
            "-    U10: u_wind_component_10m\n",
            "-    V10: v_wind_component_10m\n",
            "-   SI10: wind_speed_10m\n",
            "-   GUST: wind_speed_gust\n",
            "- WDIR10: wind_direction_10m\n",
            "-    T2M: temperature_2m\n",
            "-    D2M: dewpoint_temperature_2m\n",
            "-    SH2: specific_humidity_2m\n",
            "-     SP: surface_pressure\n",
            "-    VIS: visibility\n",
            "-   OROG: orography\n"
          ]
        }
      ],
      "source": [
        "print(ERA5, URMA, sep=\"\\n\")\n",
        "assert ERA5(\"Z\") is ERA5(\"z\") is ERA5.Z is ERA5(\"geopotential\") and ERA5.Z == \"geopotential\"\n",
        "assert ERA5(\"z\") is ERA5.Z\n",
        "assert ERA5(\"z\") == ERA5.Z\n",
        "assert (\n",
        "    ERA5(\"u\") is ERA5[\"U\"] is ERA5.loc[\"U\"] is ERA5.U is ERA5(\"u_component_of_wind\")\n",
        "    and ERA5.U == \"u_component_of_wind\"\n",
        ")\n",
        "\n",
        "assert set(ERA5).difference(ERA5([\"u\", \"v\"])) == ERA5.difference([\"u\", \"v\"]) == {ERA5.Q, ERA5.T, ERA5.W, ERA5.Z}\n",
        "assert set(ERA5).intersection(ERA5([\"u\", \"v\"])) == ERA5.intersection([\"u\", \"v\"]) == {ERA5.U, ERA5.V}\n",
        "assert all(issubclass(x, DependentVariables) for x in (ERA5, ERA5))"
      ]
    },
    {
      "cell_type": "code",
      "execution_count": null,
      "metadata": {},
      "outputs": [],
      "source": [
        "(u, v), z = ERA5.loc[[\"U\", \"V\"]], ERA5.loc[\"Z\"]\n",
        "\n",
        "u, v, z"
      ]
    },
    {
      "cell_type": "code",
      "execution_count": null,
      "metadata": {},
      "outputs": [],
      "source": [
        "ERA5.intersection([\"u\", \"v\"])"
      ]
    },
    {
      "cell_type": "code",
      "execution_count": null,
      "metadata": {},
      "outputs": [],
      "source": [
        "# the crs is loaded lazily\n",
        "assert \"crs\" not in ERA5.metadata\n",
        "print(repr(ERA5.crs))\n",
        "assert \"crs\" in ERA5.metadata"
      ]
    },
    {
      "cell_type": "code",
      "execution_count": null,
      "metadata": {},
      "outputs": [],
      "source": [
        "print(\n",
        "    ERA5.metadata,\n",
        "    ERA5.Z.metadata,\n",
        "    ERA5.__metadata__,\n",
        "    sep=\"\\n\",\n",
        ")"
      ]
    },
    {
      "cell_type": "code",
      "execution_count": null,
      "metadata": {},
      "outputs": [],
      "source": [
        "print(\n",
        "    ERA5.difference(list(\"tuv\")),\n",
        "    ERA5.difference(ERA5(list(\"tuv\"))),\n",
        "    ERA5(list(\"tuv\")),\n",
        "    sep=\"\\n\",\n",
        ")"
      ]
    },
    {
      "cell_type": "code",
      "execution_count": null,
      "metadata": {},
      "outputs": [],
      "source": [
        "assert Coordinates.intersection([\"vertical\", \"time\", \"latitude\", \"longitude\"]) == set(Coordinates)\n",
        "assert Coordinates.difference(list(Coordinates)) == set() == set(Coordinates).difference(iter(Coordinates))\n",
        "assert Dimensions.intersection([\"time\", \"latitude\", \"longitude\"]) == {Dimensions.T, Dimensions.X, Dimensions.Y}"
      ]
    },
    {
      "cell_type": "code",
      "execution_count": 14,
      "metadata": {},
      "outputs": [
        {
          "name": "stdout",
          "output_type": "stream",
          "text": [
            "not supported: np.arange(\"2022-01-01\", \"2022-01-06\", 6)\n"
          ]
        },
        {
          "data": {
            "text/plain": [
              "array(['2022-01-01T00', '2022-01-01T06', '2022-01-01T12', '2022-01-01T18',\n",
              "       '2022-01-02T00', '2022-01-02T06', '2022-01-02T12', '2022-01-02T18',\n",
              "       '2022-01-03T00', '2022-01-03T06', '2022-01-03T12', '2022-01-03T18',\n",
              "       '2022-01-04T00', '2022-01-04T06', '2022-01-04T12', '2022-01-04T18',\n",
              "       '2022-01-05T00', '2022-01-05T06', '2022-01-05T12', '2022-01-05T18'],\n",
              "      dtype='datetime64[h]')"
            ]
          },
          "execution_count": 14,
          "metadata": {},
          "output_type": "execute_result"
        }
      ],
      "source": [
        "import mesoscaler as ms\n",
        "import numpy as np\n",
        "\n",
        "np.arange(np.timedelta64(1, \"h\"), np.timedelta64(5, \"h\"))\n",
        "try:\n",
        "    np.arange(\"2022-01-01\", \"2022-01-06\", 6)\n",
        "except TypeError as e:\n",
        "    print('not supported: np.arange(\"2022-01-01\", \"2022-01-06\", 6)')\n",
        "\n",
        "time_array = ms.hours.arange(\"2022-01-01\", \"2022-01-06\", 6)\n",
        "time_array"
      ]
    }
  ],
  "metadata": {
    "kernelspec": {
      "display_name": ".venv",
      "language": "python",
      "name": "python3"
    },
    "language_info": {
      "codemirror_mode": {
        "name": "ipython",
        "version": 3
      },
      "file_extension": ".py",
      "mimetype": "text/x-python",
      "name": "python",
      "nbconvert_exporter": "python",
      "pygments_lexer": "ipython3",
      "version": "3.10.12"
    },
    "orig_nbformat": 4
  },
  "nbformat": 4,
  "nbformat_minor": 2
}
