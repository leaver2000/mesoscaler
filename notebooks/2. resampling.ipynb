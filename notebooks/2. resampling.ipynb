{
 "cells": [
  {
   "cell_type": "code",
   "execution_count": null,
   "metadata": {},
   "outputs": [],
   "source": [
    "from __future__ import annotations\n",
    "\n",
    "%load_ext jupyter_black"
   ]
  },
  {
   "cell_type": "code",
   "execution_count": null,
   "metadata": {},
   "outputs": [],
   "source": [
    "import os\n",
    "\n",
    "import numpy as np\n",
    "import matplotlib.pyplot as plt\n",
    "import mesoscaler as ms"
   ]
  },
  {
   "cell_type": "code",
   "execution_count": null,
   "metadata": {},
   "outputs": [],
   "source": [
    "_local_data = os.path.abspath(\"../data\")\n",
    "\n",
    "urma_store = os.path.join(_local_data, \"urma.zarr\")\n",
    "assert os.path.exists(urma_store)\n",
    "era5_store = os.path.join(_local_data, \"era5.zarr\")\n",
    "assert os.path.exists(era5_store)"
   ]
  },
  {
   "cell_type": "code",
   "execution_count": null,
   "metadata": {},
   "outputs": [],
   "source": [
    "from mesoscaler.enums import (\n",
    "    # - ERA5\n",
    "    GEOPOTENTIAL,\n",
    "    SPECIFIC_HUMIDITY,\n",
    "    TEMPERATURE,\n",
    "    U_COMPONENT_OF_WIND,\n",
    "    V_COMPONENT_OF_WIND,\n",
    "    # - URMA\n",
    "    SURFACE_PRESSURE,\n",
    "    TEMPERATURE_2M,\n",
    "    SPECIFIC_HUMIDITY_2M,\n",
    "    U_WIND_COMPONENT_10M,\n",
    "    V_WIND_COMPONENT_10M,\n",
    "    SURFACE_PRESSURE,\n",
    ")\n",
    "\n",
    "era5_dvars = [\n",
    "    GEOPOTENTIAL,\n",
    "    TEMPERATURE,\n",
    "    SPECIFIC_HUMIDITY,\n",
    "    U_COMPONENT_OF_WIND,\n",
    "    V_COMPONENT_OF_WIND,\n",
    "]\n",
    "\n",
    "urma_dvars = [\n",
    "    SURFACE_PRESSURE,\n",
    "    TEMPERATURE_2M,\n",
    "    SPECIFIC_HUMIDITY_2M,\n",
    "    U_WIND_COMPONENT_10M,\n",
    "    V_WIND_COMPONENT_10M,\n",
    "]\n",
    "\n",
    "dataset_sequence = ms.open_datasets([(urma_store, urma_dvars), (era5_store, era5_dvars)])\n",
    "dataset_sequence"
   ]
  },
  {
   "cell_type": "code",
   "execution_count": null,
   "metadata": {},
   "outputs": [],
   "source": [
    "ratio = 2 / 1\n",
    "height = 40  # px\n",
    "dy = 100  # km\n",
    "dx = int(dy * ratio)  # km\n",
    "width = int(height * ratio)  # px\n",
    "levels = [1013.25, 1000, 925, 850, 700, 600, 500, 400, 300, 200]\n",
    "scale = ms.Mesoscale(dx, dy, levels=levels)\n",
    "scale.plot.table()\n",
    "plt.show()"
   ]
  },
  {
   "cell_type": "code",
   "execution_count": null,
   "metadata": {},
   "outputs": [],
   "source": [
    "resampler = scale.resample(dataset_sequence, height=height, width=width)\n",
    "resampler"
   ]
  },
  {
   "cell_type": "code",
   "execution_count": null,
   "metadata": {},
   "outputs": [],
   "source": [
    "# - New Orleans\n",
    "lon, lat, time = -90.0715, 29.9511, np.array([\"2019-01-01T00:00:00.000000000\"]).astype(\"datetime64[ns]\")\n",
    "batch = resampler(lon, lat, time)\n",
    "print(batch.shape)"
   ]
  },
  {
   "cell_type": "code",
   "execution_count": null,
   "metadata": {},
   "outputs": [],
   "source": [
    "from mesoscaler.sampling.resampler import PlotOption\n",
    "from cartopy.feature import STATES, OCEAN\n",
    "\n",
    "plotter = resampler.plot(lon, lat, time, features=[STATES, OCEAN])\n",
    "plotter.shape"
   ]
  },
  {
   "cell_type": "code",
   "execution_count": null,
   "metadata": {},
   "outputs": [],
   "source": [
    "options = [\n",
    "    PlotOption(\"pressure\", \"contour\", dim=0, colors=\"k\", linestyles=\"-\"),\n",
    "    PlotOption(\"temperature\", \"contour\", dim=1, colors=\"r\", linestyles=\"--\", linewidths=0.5),\n",
    "    PlotOption(\"dp\", \"contourf\", dim=2, cmap=\"Greens\"),\n",
    "    PlotOption(\"winds\", \"barbs\", dim=(3, 4), alpha=0.5),\n",
    "]\n",
    "plotter.all_levels(0, options=options)"
   ]
  },
  {
   "cell_type": "code",
   "execution_count": null,
   "metadata": {},
   "outputs": [],
   "source": [
    "# - mit campus\n",
    "idx = (-71.0942, 42.3601, np.array([\"2019-01-01T00:00:00.000000000\"]).astype(\"datetime64[ns]\"))\n",
    "\n",
    "\n",
    "plotter(*idx).all_levels(0, options=options)"
   ]
  },
  {
   "cell_type": "code",
   "execution_count": null,
   "metadata": {},
   "outputs": [],
   "source": [
    "# - scott-afb\n",
    "idx = (-89.8446, 38.5454, np.array([\"2019-01-01T00:00:00.000000000\"]).astype(\"datetime64[ns]\"))\n",
    "plotter(*idx).all_levels(0, options=options)"
   ]
  }
 ],
 "metadata": {
  "kernelspec": {
   "display_name": ".venv",
   "language": "python",
   "name": "python3"
  },
  "language_info": {
   "codemirror_mode": {
    "name": "ipython",
    "version": 3
   },
   "file_extension": ".py",
   "mimetype": "text/x-python",
   "name": "python",
   "nbconvert_exporter": "python",
   "pygments_lexer": "ipython3",
   "version": "3.10.12"
  }
 },
 "nbformat": 4,
 "nbformat_minor": 2
}
