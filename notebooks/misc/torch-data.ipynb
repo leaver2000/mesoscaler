{
 "cells": [
  {
   "cell_type": "code",
   "execution_count": 4,
   "metadata": {},
   "outputs": [
    {
     "name": "stdout",
     "output_type": "stream",
     "text": [
      "The jupyter_black extension is already loaded. To reload it, use:\n",
      "  %reload_ext jupyter_black\n"
     ]
    }
   ],
   "source": [
    "%load_ext jupyter_black\n",
    "from __future__ import annotations"
   ]
  },
  {
   "cell_type": "code",
   "execution_count": 5,
   "metadata": {},
   "outputs": [],
   "source": [
    "import abc\n",
    "import bisect\n",
    "import itertools\n",
    "\n",
    "from typing import Generic, TypeVar, Iterable, Iterator, Final\n",
    "\n",
    "from mesoscaler.generic import NamedAndSized\n",
    "from mesoscaler.utils import acc_size\n",
    "\n",
    "_T = TypeVar(\"_T\")"
   ]
  },
  {
   "cell_type": "code",
   "execution_count": 6,
   "metadata": {},
   "outputs": [],
   "source": [
    "class Dataset(NamedAndSized, Generic[_T], abc.ABC):\n",
    "    @abc.abstractmethod\n",
    "    def __getitem__(self, index: int) -> _T:\n",
    "        ...\n",
    "\n",
    "    def __add__(self, other: Dataset[_T]) -> ConcatDataset[_T]:\n",
    "        return ConcatDataset([self, other])\n",
    "\n",
    "\n",
    "class ConcatDataset(Dataset[_T]):\n",
    "    def __init__(self, data: Iterable[Dataset[_T]]) -> None:\n",
    "        super().__init__()\n",
    "        self.data = data = list(data)\n",
    "        if not data:\n",
    "            raise ValueError(\"datasets should not be an empty iterable\")\n",
    "        for ds in data:\n",
    "            if isinstance(ds, IterableDataset):\n",
    "                raise ValueError(\"ConcatDataset does not support IterableDataset\")\n",
    "\n",
    "        self.accumulated_sizes = list(acc_size(data))\n",
    "\n",
    "    def __len__(self) -> int:\n",
    "        return self.accumulated_sizes[-1]\n",
    "\n",
    "    def __getitem__(self, idx: int) -> _T:\n",
    "        if idx < 0:\n",
    "            if -idx > len(self):\n",
    "                raise ValueError(\"absolute value of index should not exceed dataset length\")\n",
    "            idx += len(self)\n",
    "\n",
    "        if ds_idx := bisect.bisect_right(self.accumulated_sizes, idx):\n",
    "            idx -= self.accumulated_sizes[ds_idx - 1]\n",
    "\n",
    "        return self.data[ds_idx][idx]\n",
    "\n",
    "\n",
    "# =====================================================================================================================\n",
    "class IterableDataset(NamedAndSized, Iterable[_T], abc.ABC):\n",
    "    @abc.abstractmethod\n",
    "    def __iter__(self) -> Iterator[_T]:\n",
    "        ...\n",
    "\n",
    "    def __add__(self, other: IterableDataset[_T]) -> ChainDataset[_T]:\n",
    "        return ChainDataset([self, other])\n",
    "\n",
    "\n",
    "class ChainDataset(IterableDataset[_T]):\n",
    "    def __init__(self, datasets: Iterable[IterableDataset[_T]]) -> None:\n",
    "        super().__init__()\n",
    "        self.data: Final[Iterable[IterableDataset[_T]]] = datasets\n",
    "\n",
    "    def __iter__(self) -> Iterator[_T]:\n",
    "        return itertools.chain.from_iterable(self.data)\n",
    "\n",
    "    def __len__(self) -> int:\n",
    "        return sum(map(len, self.data))"
   ]
  }
 ],
 "metadata": {
  "kernelspec": {
   "display_name": ".venv",
   "language": "python",
   "name": "python3"
  },
  "language_info": {
   "codemirror_mode": {
    "name": "ipython",
    "version": 3
   },
   "file_extension": ".py",
   "mimetype": "text/x-python",
   "name": "python",
   "nbconvert_exporter": "python",
   "pygments_lexer": "ipython3",
   "version": "3.10.12"
  }
 },
 "nbformat": 4,
 "nbformat_minor": 2
}
