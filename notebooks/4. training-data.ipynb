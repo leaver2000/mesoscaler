{
 "cells": [
  {
   "cell_type": "code",
   "execution_count": null,
   "metadata": {},
   "outputs": [],
   "source": [
    "from __future__ import annotations\n",
    "\n",
    "%load_ext jupyter_black"
   ]
  },
  {
   "cell_type": "code",
   "execution_count": null,
   "metadata": {},
   "outputs": [],
   "source": [
    "import os\n",
    "\n",
    "import mesoscaler as ms\n",
    "import matplotlib.pyplot as plt\n",
    "import numpy as np\n",
    "import mesoscaler as ms\n",
    "import zarr\n",
    "\n",
    "_local_data = os.path.abspath(\"../data\")\n",
    "\n",
    "cities_zarr = os.path.join(_local_data, \"cities.zarr\")\n",
    "\n",
    "array = zarr.open_array(os.path.join(cities_zarr, \"data\"), mode=\"r\")\n",
    "\n",
    "\n",
    "ms.ZarrAttributes.from_array(array)"
   ]
  },
  {
   "cell_type": "code",
   "execution_count": null,
   "metadata": {},
   "outputs": [],
   "source": [
    "from mesoscaler.sampling.display import PlotArray, PlotOption\n",
    "\n",
    "options = [\n",
    "    PlotOption(\"pressure\", \"contour\", dim=0, colors=\"k\", linestyles=\"-\"),\n",
    "    PlotOption(\"temperature\", \"contour\", dim=1, colors=\"r\", linestyles=\"--\", linewidths=0.5),\n",
    "    PlotOption(\"dp\", \"contourf\", dim=2, cmap=\"Greens\"),\n",
    "    PlotOption(\"winds\", \"barbs\", dim=(3, 4), alpha=0.5),\n",
    "]\n",
    "\n",
    "PlotArray.from_group(array, 1).all_levels(0, options=options)"
   ]
  },
  {
   "cell_type": "code",
   "execution_count": null,
   "metadata": {},
   "outputs": [],
   "source": [
    "import torch.utils.data\n",
    "from typing import Iterable, Iterator\n",
    "from mesoscaler._typing import Array, Nv, Nt, Nz, Nx, Ny\n",
    "import numpy as np\n",
    "\n",
    "\n",
    "class Dataset(torch.utils.data.Dataset[Array[[Nv, Nt, Nz, Nx, Ny], np.float32]]):\n",
    "    def __init__(self, array: zarr.Array) -> None:\n",
    "        super().__init__()\n",
    "        self.array = array\n",
    "\n",
    "    def __getitem__(self, index: int) -> np.ndarray:\n",
    "        return self.array[index]  # type: ignore\n",
    "\n",
    "    def __len__(self) -> int:\n",
    "        return len(self.array)\n",
    "\n",
    "    def __iter__(self) -> Iterator[int]:\n",
    "        yield from range(len(self))\n",
    "\n",
    "    @property\n",
    "    def shape(self) -> tuple[int, ...]:\n",
    "        return self.array.shape[1:]\n",
    "\n",
    "    @classmethod\n",
    "    def from_disk(cls, path: str):\n",
    "        return cls(zarr.open_array(path, mode=\"r\"))\n",
    "\n",
    "    def __repr__(self) -> str:\n",
    "        return f\"{self.__class__.__name__}:\\n{self.array.info}\"\n",
    "\n",
    "    def _repr_html_(self):\n",
    "        return self.array.info._repr_html_()\n",
    "\n",
    "    @property\n",
    "    def zattrs(self) -> ms.ZarrAttributes:\n",
    "        return ms.ZarrAttributes.from_array(self.array)\n",
    "\n",
    "\n",
    "ds = Dataset.from_disk(os.path.join(cities_zarr, \"data\"))\n",
    "ds"
   ]
  },
  {
   "cell_type": "code",
   "execution_count": null,
   "metadata": {},
   "outputs": [],
   "source": [
    "class RandomSampler(torch.utils.data.Sampler[int]):\n",
    "    def __init__(self, num_samples: int, generator: torch.Generator | None = None, seed: int | None = None) -> None:\n",
    "        super().__init__()\n",
    "        if seed is None:\n",
    "            seed = int(torch.empty((), dtype=torch.int64).random_().item())\n",
    "        self.generator = generator or torch.Generator().manual_seed(seed)\n",
    "        self.num_samples = num_samples\n",
    "\n",
    "    def __iter__(self) -> Iterator[int]:\n",
    "        n = self.num_samples\n",
    "        g = self.generator\n",
    "\n",
    "        for _ in range(self.num_samples // n):\n",
    "            yield from map(int, torch.randperm(n, generator=g).numpy())\n",
    "        yield from map(int, torch.randperm(n, generator=g)[: self.num_samples % n].numpy())\n",
    "\n",
    "    def __len__(self) -> int:\n",
    "        return self.num_samples\n",
    "\n",
    "\n",
    "num_epoch = 10\n",
    "batch_size = 12\n",
    "num_workers = 10\n",
    "\n",
    "loader = torch.utils.data.DataLoader(\n",
    "    ds,\n",
    "    batch_size=batch_size,\n",
    "    num_workers=num_workers,\n",
    "    sampler=RandomSampler(len(ds)),\n",
    "    drop_last=bool((len(ds) / batch_size) % 1),\n",
    ")\n",
    "for epoch in range(num_epoch):\n",
    "    for batch in loader:\n",
    "        print(batch.shape)"
   ]
  },
  {
   "cell_type": "code",
   "execution_count": null,
   "metadata": {},
   "outputs": [],
   "source": []
  }
 ],
 "metadata": {
  "kernelspec": {
   "display_name": ".venv",
   "language": "python",
   "name": "python3"
  },
  "language_info": {
   "codemirror_mode": {
    "name": "ipython",
    "version": 3
   },
   "file_extension": ".py",
   "mimetype": "text/x-python",
   "name": "python",
   "nbconvert_exporter": "python",
   "pygments_lexer": "ipython3",
   "version": "3.10.12"
  }
 },
 "nbformat": 4,
 "nbformat_minor": 2
}
