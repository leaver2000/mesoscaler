{
 "cells": [
  {
   "cell_type": "code",
   "execution_count": 3,
   "metadata": {},
   "outputs": [
    {
     "data": {
      "text/plain": [
       "MyData:\n",
       "- node_1: 0\n",
       "- node_2: 0"
      ]
     },
     "execution_count": 3,
     "metadata": {},
     "output_type": "execute_result"
    }
   ],
   "source": [
    "from src.mesoscaler.generic import Data\n",
    "\n",
    "\n",
    "class MyData(Data[int]):\n",
    "    def __init__(self):\n",
    "        self.node_1 = 0\n",
    "        self.node_2 = 0\n",
    "        \n",
    "    @property\n",
    "    def nodes(self):\n",
    "        return 'node_1', 'node_2'\n",
    "\n",
    "    @property\n",
    "    def data(self):\n",
    "        return ((node, getattr(self, node)) for node in self.nodes)\n",
    "        \n",
    "    def __len__(self):\n",
    "        return len(self.nodes)\n",
    "    \n",
    "data = MyData()\n",
    "data"
   ]
  }
 ],
 "metadata": {
  "kernelspec": {
   "display_name": ".venv",
   "language": "python",
   "name": "python3"
  },
  "language_info": {
   "codemirror_mode": {
    "name": "ipython",
    "version": 3
   },
   "file_extension": ".py",
   "mimetype": "text/x-python",
   "name": "python",
   "nbconvert_exporter": "python",
   "pygments_lexer": "ipython3",
   "version": "3.10.12"
  }
 },
 "nbformat": 4,
 "nbformat_minor": 2
}
